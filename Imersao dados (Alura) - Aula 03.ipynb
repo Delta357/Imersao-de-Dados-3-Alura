{
 "cells": [
  {
   "cell_type": "markdown",
   "metadata": {},
   "source": [
    "# Aula - 03"
   ]
  },
  {
   "cell_type": "markdown",
   "metadata": {},
   "source": [
    "Olá Cientista!\n",
    "\n",
    "Seja bem vindo e bem vinda à aula 03!\n",
    "\n",
    "Na aula anterior, pudemos entender a importância da construção de gráficos na visualização dos dados. Discutimos principalmente os histogramas e boxplots e, além disso, também falamos sobre a função describe do Pandas.\n",
    "\n",
    "Você conseguiu fazer todos os desafios? Então vamos mergulhar juntos na aula 03!\n",
    "\n",
    "Hoje, nosso foco é nos aprofundar ainda mais na base de dados e entender mais sobre a relação entre as nossas variáveis.\n",
    "\n",
    "Olhando para o nosso conjunto de dados, percebemos que temos dados de tratamento, tempo, dosagem, composto químico usado e os dados genéticos. E os primeiros dados que vamos relacionar são aqueles ligados ao tratamento e, como já vimos anteriormente, estes são dados categóricos.\n",
    "\n",
    "Um dos vieses de análise está relacionado às proporções destas categorias e, como aprendemos na aula anterior, um gráfico de frequências pode ser muito útil nesse aspecto."
   ]
  },
  {
   "cell_type": "code",
   "execution_count": null,
   "metadata": {},
   "outputs": [],
   "source": [
    "import pandas as pd\n",
    "import seaborn as sns\n",
    "import numpy as np\n",
    "import matplotlib.pyplot as plt"
   ]
  },
  {
   "cell_type": "code",
   "execution_count": null,
   "metadata": {},
   "outputs": [],
   "source": [
    "sns.set()"
   ]
  },
  {
   "cell_type": "code",
   "execution_count": null,
   "metadata": {},
   "outputs": [],
   "source": [
    "url_dados = 'https://github.com/alura-cursos/imersaodados3/blob/main/dados/dados_experimentos.zip?raw=true'\n",
    "\n",
    "df = pd.read_csv(url_dados, compression = 'zip')\n",
    "df"
   ]
  },
  {
   "cell_type": "markdown",
   "metadata": {},
   "source": [
    "Conforme nossa busca na documentação do Pandas, encontramos uma maneira para construir uma tabela de frequências, a função crosstab. Esta função recebe como argumentos os dados que gostaríamos de correlacionar de uma maneira bem simples: crosstab(dataframe['coluna1'], dataframe['coluna2']) e então, como retorno, temos uma matriz que relaciona essas variáveis a partir da frequência.\n",
    "\n",
    "Podemos ver que as categorias da variável dose transformaram-se em linhas e as categorias da variável tempo são colunas."
   ]
  },
  {
   "cell_type": "code",
   "execution_count": null,
   "metadata": {},
   "outputs": [],
   "source": [
    "df.head(5)"
   ]
  },
  {
   "cell_type": "markdown",
   "metadata": {},
   "source": [
    "Conforme nossa busca na documentação do Pandas, encontramos uma maneira para construir uma tabela de frequências, a função crosstab. Esta função recebe como argumentos os dados que gostaríamos de correlacionar de uma maneira bem simples: crosstab(dataframe['coluna1'], dataframe['coluna2']) e então, como retorno, temos uma matriz que relaciona essas variáveis a partir da frequência.\n",
    "\n",
    "Podemos ver que as categorias da variável dose transformaram-se em linhas e as categorias da variável tempo são colunas."
   ]
  },
  {
   "cell_type": "code",
   "execution_count": null,
   "metadata": {},
   "outputs": [],
   "source": [
    "pd.crosstab(df['dose'], df['tempo'])"
   ]
  },
  {
   "cell_type": "markdown",
   "metadata": {},
   "source": [
    "Para isso, usaremos a mesma sintaxe anterior, adicionando dados['tratamento']ao final e, adicionalmente, deixamos as duas primeiras colunas declaradas entre colchetes, pois assim garantimos que suas informações estarão distribuídas nas linhas"
   ]
  },
  {
   "cell_type": "code",
   "execution_count": null,
   "metadata": {},
   "outputs": [],
   "source": [
    "pd.crosstab([df[\"dose\"], df[\"tempo\"]], df[\"tratamento\"])"
   ]
  },
  {
   "cell_type": "markdown",
   "metadata": {},
   "source": [
    "Apesar de já termos construído uma tabela bem interessante através da frequência de algumas variáveis, podemos explorar a proporção destes dados entre si.\n",
    "\n",
    "Para fazer isso vamos, novamente, copiar o nosso comando acrescentando um novo parâmetro ao final, o normalize. Então o código ficará: crosstab([dados['dose'], dados['tempo']],  dados['tratamento'], normalize='index'). Esse parâmetro normaliza a nossa tabela e escolhemos que ela faça isso a partir do índice, ou seja, ela fará a comparação entre as categorias, isto é, a soma de cada linha será igual a 1. Fazer este tipo de análise possibilita que façamos algumas suposições acerca do balanceamento entre as categorias e, analisando a nossa matriz, podemos concluir que há proporcionalidade na nossa base de dados."
   ]
  },
  {
   "cell_type": "code",
   "execution_count": null,
   "metadata": {},
   "outputs": [],
   "source": [
    "pd.crosstab([df['dose'], df['tempo']],  df['tratamento'], normalize='index')"
   ]
  },
  {
   "cell_type": "markdown",
   "metadata": {},
   "source": [
    "Podemos também agregar à nossa matriz uma métrica estatística associada a uma coluna. Para que isso seja cumprido, adicionamos mais dois parâmetros à nossa função crosstab: o primeiro é o values = dataframe['variavel'] e o segundo é o aggfunc que recebe como parâmetro alguma métrica estatística, como a média. Logo, aggfunc = 'mean'. Isso quer dizer que queremos comparar entre as diferentes categorias (com_controle e com_droga) a média de valores associados a variável g-0.\n",
    "\n",
    "Aqui, podemos perceber algumas diferenças entre essas médias e podemos traçar algumas hipóteses a serem verificadas. Lembrando que a média de uma variável, é uma conta feita a partir dos valores que aquela amostra apresenta e não é o valor que ela assume, de fato. Por isso, não podemos concluir nada somente olhando a média, mas entender seu comportamento nos dá indícios por quais caminhos podemos seguir."
   ]
  },
  {
   "cell_type": "code",
   "execution_count": null,
   "metadata": {},
   "outputs": [],
   "source": [
    "pd.crosstab([df['dose'], df['tempo']],  df['tratamento'], values = df['g-0'], aggfunc ='mean')"
   ]
  },
  {
   "cell_type": "markdown",
   "metadata": {},
   "source": [
    "Para variáveis contínuas, fazer tabelas de frequências não é a melhor estratégia para analisá-las. Mas, construir um novo tipo de gráfico pode ser muito interessante para o nosso processo.\n",
    "\n",
    "Então, para fins de visualização, o primeiro passo é filtrar a nossa base de dados com as colunas que queremos investigar. No nosso caso, vamos analisar a relação entre as colunas g-0 e g-3 e, por isso, definimos uma lista de arrays com os nomes dessas colunas (dataframe[['coluna1', 'coluna2']]) e, como retorno, teremos nosso conjunto somente com as variáveis alvo."
   ]
  },
  {
   "cell_type": "code",
   "execution_count": null,
   "metadata": {},
   "outputs": [],
   "source": [
    "df[['g-0', 'g-3']]"
   ]
  },
  {
   "cell_type": "markdown",
   "metadata": {},
   "source": [
    "O ```scatterplot``` é um tipo de gráfico pré programado da biblioteca Seaborn e recebe como parâmetros a variável que vai ser usada no eixo x, a variável do eixo y e, por fim, o conjunto de dados. \n",
    "\n",
    "O código ficará: \n",
    "\n",
    "```sns.scatterplot(x = 'variavel para o eixo x', y = 'variavel para o eixo y', data = base de dados)```\n",
    "\n",
    "E, como queremos investigar as variáveis ```g-0``` e ```g-3```, atribuímos cada uma delas a um eixo. \n",
    "\n",
    "O gráfico de dispersão utiliza os dados como uma coleção de pontos cartesianos e ele é usado para apurar se há relação de causa e efeito entre duas variáveis quantitativas. \n",
    "\n",
    "No nosso caso, cada linha será um par ordenado de acordo com o que declaramos no código, ou seja, o valor de ```g-0``` será a cordenada x e o valor de ```g-3``` será a coordenada y. \n",
    "\n",
    "Por exemplo: para a linha 0 da base de dados teremos (1,0620 , -0,6208) \n",
    "\n",
    "Mas, por outro lado, a partir do gráfico de dispersão, não podemos dizer que uma variável afeta a outra, podemos apenas definir se há relação entre elas e qual a intensidade disso."
   ]
  },
  {
   "cell_type": "code",
   "execution_count": null,
   "metadata": {},
   "outputs": [],
   "source": [
    "plt.figure(figsize=(10, 8))\n",
    "\n",
    "sns.scatterplot(x='g-0', y = 'g-3', data=df)"
   ]
  },
  {
   "cell_type": "markdown",
   "metadata": {},
   "source": [
    "Observando o gráfico que construímos acima, não parecemos encontrar nenhum padrão tão definido. Então, vamos confrontar mais duas colunas para verificar se encontramos algum padrão melhor definido.\n",
    "\n",
    "Aqui, vamos usar a variável ```g-0``` para o eixo x e a variável ```g-8``` para o eixo y para construir o nosso novo gráfico.\n",
    "\n",
    "Como retorno, recebemos um gráfico de dispersão onde a nuvem de pontos cartesianos parece desenhar melhor um padrão: conforme o ```g-0``` aumenta, o valor de ```g-8``` diminui. Aparentemente, a relação entre essas duas variáveis desenha uma curva com inclinação negativa."
   ]
  },
  {
   "cell_type": "code",
   "execution_count": null,
   "metadata": {},
   "outputs": [],
   "source": [
    "plt.figure(figsize=(10, 8))\n",
    "\n",
    "sns.scatterplot(x='g-0', y = 'g-8', data = df)"
   ]
  },
  {
   "cell_type": "markdown",
   "metadata": {},
   "source": [
    "E, como parte do nosso trabalho é levantar hipóteses e confirmá-las (ou não), precisamos verificar se a nossa suspeita de que a relação entre as variáveis ```g-0``` e ```g-8```desenha uma curva com inclinação negativa. \n",
    "\n",
    "Para isso, vamos utilizar uma outra função do Seaborn, a ```lmplot```. A ```lmplot``` vai desenhar no nosso gráfico de dispersão uma linha de tendência e, assim, poderemos confirmar o padrão daquele conjunto de dados.\n",
    "\n",
    "Os parâmetros a serem recebidos, são muito parecidos com aqueles usados no ```scatterplot```. Então teremos \n",
    "\n",
    "```sns.lmplot(data=base de dados, x='variavel para o eixo x', y='variavel para o eixo y', line_kws={'color': 'cor da linha de tendencia'})```\n",
    "\n",
    "Utilizamos o parâmetro ```line_kws = {'color': 'red'}``` para criar um bom contraste entre os pontos do gráfico de dispersão e a linha de tendência.\n",
    "\n",
    "Observando o nosso gráfico, podemos concluir a nossa hipótese inicial, mas ele ainda não é suficiente para finalizarmos a nossa análise.\n",
    "\n"
   ]
  },
  {
   "cell_type": "code",
   "execution_count": null,
   "metadata": {},
   "outputs": [],
   "source": [
    "plt.figure(figsize=(10, 8))\n",
    "\n",
    "ax = sns.lmplot(data=df, x='g-0', y='g-8', line_kws={'color': 'red'})"
   ]
  },
  {
   "cell_type": "markdown",
   "metadata": {},
   "source": [
    "Para uma análise mais real e completa, é interessante que separemos ainda mais o nosso conjunto de dados. Isso porque, na imagem acima, apesar de termos uma linha de tendência para a relação entre os dados ```g-0``` e ```g-8```, não há filtros para a dosagem, o tratamento e o tempo. E, pesando em drug discorevy, é extremamente importante que façamos a separação desses conjuntos.\n",
    "\n",
    "Então, vamos acrescentar mais alguns parâmetros para executar a separação. Acrescentamos o parâmetro ```col = tramento``` para que sejam plotados gráficos de acordo com as categorias da variável em questão nas colunas (```com_droga``` e ```com_controle```) e também incluímos o parâmetro ```row = 'tempo'``` para que mais uma subdivisão seja feita e, as linhas apresentem novos gráficos com as diferentes categorias (```24```,```48``` e ```72```).\n",
    "\n",
    "Assim, podemos perceber as nuances de cada gráfico e o comportamento de determinado subconjunto."
   ]
  },
  {
   "cell_type": "code",
   "execution_count": null,
   "metadata": {},
   "outputs": [],
   "source": [
    "sns.lmplot(data=df, x='g-0', y='g-8', line_kws={'color': 'red'}, col='tratamento', row='tempo')"
   ]
  },
  {
   "cell_type": "markdown",
   "metadata": {},
   "source": [
    "Outra medida para analisar como as variáveis estão associadas é a correlação. \n",
    "\n",
    "Para isso, vamos usar uma função já conhecida do Pandas, o ```loc``` e, vamos agregar o ```.corr```. O ```loc``` serve para definirmos o intervalo em que a correlação vai ser calculada. Aqui, estamos calculando a correlação entre todos os genes. \n",
    "\n",
    "Como retorno, temos uma tabela bem grande que correlaciona a variável e apresenta valores entre 1 e -1.\n",
    "Por exemplo, o primeiro valor numérico apresentado na primeira linha é o resultado da correlação entre a variável que está nesta linha e nesta coluna, no nosso caso, o ```g-0``` em ambas as extremidades. No primeiro valor numérico apresentado na segunda linha, temos a correlação entre ```g-1``` e ```g-0``` e assim por diante. \n",
    "\n",
    "Mas, como interpretar esses valores? Bom, temos a seguinte divisão:\n",
    "    \n",
    "    - Valores muito próximos de 1 ou -1: variáveis altamente correlacionadas\n",
    "    - Valores muito próximos de 0: variáveis pouco ou não correlacionadas\n",
    "\n",
    "E, o que diferencia se essa correlação será proporcional ou inversamente proporcional, será o sinal. Quer dizer:\n",
    "\n",
    "    - Valores muito próximos de 1: variáveis proporcionalmente correlacionadas\n",
    "    - Valores muito próximos de -1: variáveis correlacionadas inversamente proporcionais\n",
    "\n",
    "Agora que já sabemos como analisar essa tabela, podemos voltar para o nosso gráfico de dispersão construído com ```g-0``` e ```g-8`` e perceber que a nossa tabela confirma que ambas as variáveis estão correlacionadas e são inversamente proporcionais, visto que o valor apresentado na tabela é de -0,604212."
   ]
  },
  {
   "cell_type": "code",
   "execution_count": null,
   "metadata": {},
   "outputs": [],
   "source": [
    "df.loc[:,'g-0':'g-771'].corr()"
   ]
  },
  {
   "cell_type": "markdown",
   "metadata": {},
   "source": [
    "Analisar essa grande tabela é um desafio bem grande. Então, como auxílio visual costumamos plotar um mapa de calor para que possamos identificar com maior facilidade a correlação entre as variáveis.\n",
    "\n",
    "E, como esse código já está construído na própria documentação do Seaborn, vamos copiar o [código](https://seaborn.pydata.org/examples/many_pairwise_correlations.html) de lá, fazendo apenas algumas pequenas alterações.\n",
    "\n",
    "Então, de ```corr = d.corr()``` mudamos para ```corr = dados.loc[:,'g-0':'g-50'].corr()``` pois ajustamos o ```d``` para a nossa base de dados (```dados```) e decidimos incluir um ```loc``` para fazer o mapa de calor apenas do ```g-0``` ao ```g-50```. \n",
    "Também retiramos o parâmetro ```vmax=.3``` da última parte do código pois este era um limitador da correlação que não nos interessa no momento.\n",
    "\n",
    "Adicionalmente, também fizemos a importação da biblioteca Numpy que é usada para gerar este mapa de calor (```import numpy as np```).\n",
    "\n",
    "\n",
    "\n"
   ]
  },
  {
   "cell_type": "code",
   "execution_count": null,
   "metadata": {},
   "outputs": [],
   "source": [
    "corr = df.loc[:,'g-0':'g-50'].corr()"
   ]
  },
  {
   "cell_type": "markdown",
   "metadata": {},
   "source": [
    "O mapa de calor mostra uma escala de cores em sua lateral direita, a legenda e, para cada pontinho, podemos perceber a força da correlação sendo mostrada através de uma cor associada.\n",
    "\n",
    "Olhando para o nosso gráfico, percebemos que, em sua maioria, as expressões genicas não apresentam correlações tão altas entre si (podemos deduzir isso observando que o gráfico em grande parte é translúcido).\n",
    "\n",
    "É importante destacar que não podemos inferir causalidade a partir da correlação, como já descrevemos anteriormente no gráfico de dispersão. Exemplificando: vimos que g-0 e g-8 têm correlação inversamente proporcional entre si mas não podemos concluir que é o g-0 que faz o g-8 diminuir, ou seja, a causa."
   ]
  },
  {
   "cell_type": "code",
   "execution_count": null,
   "metadata": {},
   "outputs": [],
   "source": [
    "mask = np.triu(np.ones_like(corr, dtype=bool))\n",
    "\n",
    "f, ax = plt.subplots(figsize=(11, 9))\n",
    "\n",
    "cmap = sns.diverging_palette(230, 20, as_cmap=True)\n",
    "\n",
    "sns.heatmap(corr, mask=mask, cmap=cmap, center=0,\n",
    "            square=True, linewidths=.5, cbar_kws={\"shrink\": .5})"
   ]
  },
  {
   "cell_type": "markdown",
   "metadata": {},
   "source": [
    "Agora, vamos repetir o processo de construção do mapa de calor para a a viabilidade celular (```c```).\n",
    "\n",
    "Definimos uma nova variável ```corr_celular``` e ajustamos os parâmetros de acordo com os nossos ```cs```.\n",
    "\n",
    "Observando o gráfico de saída, podemos perceber uma grande diferença entre os dois mapas de calor que construímos. A escala deste novo gráfico é bem diferente da escala anterior, temos valores apenas entre 0,65 e 0,90, correlações altamente proporcionais."
   ]
  },
  {
   "cell_type": "code",
   "execution_count": null,
   "metadata": {},
   "outputs": [],
   "source": [
    "corr_celular = df.loc[:,'c-0':'c-50'].corr()"
   ]
  },
  {
   "cell_type": "code",
   "execution_count": null,
   "metadata": {},
   "outputs": [],
   "source": [
    "mask = np.triu(np.ones_like(corr_celular, dtype=bool))\n",
    "\n",
    "f, ax = plt.subplots(figsize=(11, 9))\n",
    "\n",
    "cmap = sns.diverging_palette(230, 20, as_cmap=True)\n",
    "\n",
    "sns.heatmap(corr_celular, mask=mask, cmap=cmap, center=0,\n",
    "            square=True, linewidths=.5, cbar_kws={\"shrink\": .5})"
   ]
  },
  {
   "cell_type": "markdown",
   "metadata": {},
   "source": [
    "# Desafios da aula - 03"
   ]
  },
  {
   "cell_type": "markdown",
   "metadata": {},
   "source": [
    "**Desafio 01: Criar tabelas de frequência com pandas.groupby()**"
   ]
  },
  {
   "cell_type": "code",
   "execution_count": null,
   "metadata": {},
   "outputs": [],
   "source": [
    "crs = pd.crosstab([df[\"dose\"], df[\"tempo\"]], df[\"tratamento\"])\n",
    "crs"
   ]
  },
  {
   "cell_type": "code",
   "execution_count": null,
   "metadata": {},
   "outputs": [],
   "source": [
    "crs_n = pd.crosstab([df['dose'], df['tempo']],  df['tratamento'], normalize='index')\n",
    "crs_n"
   ]
  },
  {
   "cell_type": "code",
   "execution_count": null,
   "metadata": {},
   "outputs": [],
   "source": [
    "droga_c = df[df['tratamento']=='com_droga'].groupby(['dose','tempo']).count()['tratamento']\n",
    "droga_c"
   ]
  },
  {
   "cell_type": "code",
   "execution_count": null,
   "metadata": {},
   "outputs": [],
   "source": [
    "contr = df[df['tratamento']=='com_controle'].groupby(['dose','tempo']).count()['tratamento']\n",
    "contr"
   ]
  },
  {
   "cell_type": "code",
   "execution_count": null,
   "metadata": {},
   "outputs": [],
   "source": [
    "dados = pd.concat([droga_c, contr],axis=1)\n",
    "dados"
   ]
  },
  {
   "cell_type": "code",
   "execution_count": null,
   "metadata": {},
   "outputs": [],
   "source": [
    "dados.columns = ['Controle','Com_droga']\n",
    "dados"
   ]
  },
  {
   "cell_type": "code",
   "execution_count": null,
   "metadata": {},
   "outputs": [],
   "source": [
    "dados.div(dados.sum(axis=1),axis=0)"
   ]
  },
  {
   "cell_type": "markdown",
   "metadata": {},
   "source": [
    "**Desafio 02: Normalizar o crosstab pela coluna**"
   ]
  },
  {
   "cell_type": "code",
   "execution_count": null,
   "metadata": {},
   "outputs": [],
   "source": [
    "# crosstab normalizada\n",
    "\n",
    "df_1 = pd.crosstab([df['dose'], df['tempo']],  df['tratamento'], normalize='columns')\n",
    "df_1"
   ]
  },
  {
   "cell_type": "markdown",
   "metadata": {},
   "source": [
    "**Desafio 03: Explorar outros agregadores**"
   ]
  },
  {
   "cell_type": "code",
   "execution_count": null,
   "metadata": {},
   "outputs": [],
   "source": [
    "# crosstab normalizada\n",
    "\n",
    "dados_1 = pd.crosstab([df['dose'], df['tempo']],  df['tratamento'], normalize='columns')\n",
    "dados_1 = pd.crosstab([df['dose'], df['tempo']],  df['tratamento'], values = df['g-0'], aggfunc='min')\n",
    "dados_1 = pd.crosstab([df['dose'], df['tempo']],  df['tratamento'], values = df['g-0'], aggfunc='max')\n",
    "dados_1 = pd.crosstab([df['dose'], df['tempo']],  df['tratamento'], values = df['g-0'], aggfunc='last')\n",
    "dados_1"
   ]
  },
  {
   "cell_type": "markdown",
   "metadata": {},
   "source": [
    "**Desafio 04: Explorar o melt**"
   ]
  },
  {
   "cell_type": "code",
   "execution_count": null,
   "metadata": {},
   "outputs": [],
   "source": [
    "df_2 = pd.melt(df,id_vars = ['dose'], value_vars = ['g-0'])\n",
    "df_2"
   ]
  },
  {
   "cell_type": "markdown",
   "metadata": {},
   "source": [
    "**Desafio 05: Calcular e analisar a correlação entre G e C. Refletir sobre os efeitos biológicos.**"
   ]
  },
  {
   "cell_type": "code",
   "execution_count": null,
   "metadata": {},
   "outputs": [],
   "source": [
    "corr = df.loc[:,'g-0':'c-99'].corr()\n",
    "gen_cor = corr.loc['g-0':'g-50','c-0':'c-50']\n",
    "corr"
   ]
  },
  {
   "cell_type": "code",
   "execution_count": null,
   "metadata": {},
   "outputs": [],
   "source": [
    "gen_cor"
   ]
  },
  {
   "cell_type": "code",
   "execution_count": null,
   "metadata": {},
   "outputs": [],
   "source": [
    "# Set up the matplotlib figure\n",
    "f, ax = plt.subplots(figsize=(11, 9))\n",
    "\n",
    "# Generate a custom diverging colormap\n",
    "cmap = sns.diverging_palette(230, 20, as_cmap=True)\n",
    "\n",
    "# Draw the heatmap with the mask and correct aspect ratio\n",
    "sns.heatmap(gen_cor, cmap=cmap, center=0,\n",
    "            square=True, linewidths=.5, cbar_kws={\"shrink\": .5})"
   ]
  },
  {
   "cell_type": "code",
   "execution_count": null,
   "metadata": {},
   "outputs": [],
   "source": [
    "sns.set_style(\"ticks\")\n",
    "\n",
    "plt.figure(figsize=(18.8, 9))\n",
    "ax = sns.lmplot(x=\"g-44\", y=\"c-13\", row = \"dose\", col ='tratamento', data = df, height = 4, aspect = 1)"
   ]
  },
  {
   "cell_type": "code",
   "execution_count": null,
   "metadata": {},
   "outputs": [],
   "source": [
    "plt.figure(figsize=(18.8, 9))\n",
    "\n",
    "ax = sns.lmplot(x=\"g-50\", y=\"c-13\", row = \"dose\", col ='tratamento', data = df, height = 4, aspect = 1)"
   ]
  },
  {
   "cell_type": "code",
   "execution_count": null,
   "metadata": {},
   "outputs": [],
   "source": [
    "plt.figure(figsize=(18.8, 9))\n",
    "\n",
    "ax = sns.lmplot(x=\"g-38\", y=\"c-13\", row = \"dose\", col ='tratamento', data = df, height = 4, aspect = 1)"
   ]
  },
  {
   "cell_type": "markdown",
   "metadata": {},
   "source": [
    "**Desafio 06: Estudar o código que plota a matriz de correlação (heatmap)**"
   ]
  },
  {
   "cell_type": "code",
   "execution_count": null,
   "metadata": {},
   "outputs": [],
   "source": [
    "corr_genes = df.loc[:,'g-0':'g-50'].corr()"
   ]
  },
  {
   "cell_type": "code",
   "execution_count": null,
   "metadata": {},
   "outputs": [],
   "source": [
    "mask = np.triu(np.ones_like(corr_genes, dtype=bool))\n",
    "mask"
   ]
  },
  {
   "cell_type": "code",
   "execution_count": null,
   "metadata": {},
   "outputs": [],
   "source": [
    "cmap = sns.diverging_palette(h_neg=220, h_pos=20, as_cmap=True)\n",
    "cmap"
   ]
  },
  {
   "cell_type": "code",
   "execution_count": null,
   "metadata": {},
   "outputs": [],
   "source": [
    "plt.figure(figsize=(11, 9))\n",
    "\n",
    "sns.heatmap(corr_genes, mask=mask, cmap=cmap, center=0,\n",
    "            square=True, linewidths=.2, cbar_kws={\"shrink\": .5})"
   ]
  },
  {
   "cell_type": "code",
   "execution_count": null,
   "metadata": {},
   "outputs": [],
   "source": [
    "dados_resultados = pd.read_csv('https://github.com/alura-cursos/imersaodados3/blob/main/dados/dados_resultados.csv?raw=true')\n",
    "dados_resultados.head()"
   ]
  },
  {
   "cell_type": "code",
   "execution_count": null,
   "metadata": {},
   "outputs": [],
   "source": [
    "dados_resultados['acetylcholine_receptor_agonist'].unique()"
   ]
  },
  {
   "cell_type": "code",
   "execution_count": null,
   "metadata": {},
   "outputs": [],
   "source": [
    "dados_resultados.info()"
   ]
  },
  {
   "cell_type": "code",
   "execution_count": null,
   "metadata": {},
   "outputs": [],
   "source": [
    "contagem_moa = dados_resultados.drop('id', axis=1).sum().sort_values(ascending=False)\n",
    "contagem_moa"
   ]
  },
  {
   "cell_type": "code",
   "execution_count": null,
   "metadata": {},
   "outputs": [],
   "source": [
    "dados_resultados.drop('id', axis=1).sum(axis=1)"
   ]
  },
  {
   "cell_type": "code",
   "execution_count": null,
   "metadata": {},
   "outputs": [],
   "source": [
    "dados_resultados['n_moa'] = dados_resultados.drop('id', axis=1).sum(axis=1)\n",
    "dados_resultados['n_moa'] != 0"
   ]
  },
  {
   "cell_type": "code",
   "execution_count": null,
   "metadata": {},
   "outputs": [],
   "source": [
    "dados_resultados['ativo_moa'] = (dados_resultados['n_moa'] != 0)\n",
    "dados_resultados.head()"
   ]
  },
  {
   "cell_type": "code",
   "execution_count": null,
   "metadata": {},
   "outputs": [],
   "source": [
    "dados_combinados = pd.merge(df, dados_resultados[['id','n_moa', 'ativo_moa']], on='id')\n",
    "dados_combinados.head()"
   ]
  },
  {
   "cell_type": "code",
   "execution_count": null,
   "metadata": {},
   "outputs": [],
   "source": [
    "dados_combinados.query('tratamento == \"com_controle\"' )['ativo_moa'].value_counts()\n",
    "dados_combinados.query('tratamento == \"com_droga\"' )['ativo_moa'].value_counts()"
   ]
  },
  {
   "cell_type": "code",
   "execution_count": null,
   "metadata": {},
   "outputs": [],
   "source": [
    "dados_combinados"
   ]
  },
  {
   "cell_type": "code",
   "execution_count": null,
   "metadata": {},
   "outputs": [],
   "source": [
    "composto_principal = dados_combinados['tratamento'].value_counts().index[:5]\n",
    "composto_principal"
   ]
  },
  {
   "cell_type": "code",
   "execution_count": null,
   "metadata": {},
   "outputs": [],
   "source": []
  }
 ],
 "metadata": {
  "kernelspec": {
   "display_name": "Python 3",
   "language": "python",
   "name": "python3"
  },
  "language_info": {
   "codemirror_mode": {
    "name": "ipython",
    "version": 3
   },
   "file_extension": ".py",
   "mimetype": "text/x-python",
   "name": "python",
   "nbconvert_exporter": "python",
   "pygments_lexer": "ipython3",
   "version": "3.7.4"
  }
 },
 "nbformat": 4,
 "nbformat_minor": 2
}
